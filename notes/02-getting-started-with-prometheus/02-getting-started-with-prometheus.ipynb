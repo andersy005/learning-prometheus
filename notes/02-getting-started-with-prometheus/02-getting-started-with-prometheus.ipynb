{
 "cells": [
  {
   "cell_type": "markdown",
   "metadata": {},
   "source": [
    "# Getting Started with Prometheus"
   ]
  },
  {
   "cell_type": "code",
   "execution_count": null,
   "metadata": {},
   "outputs": [
    {
     "name": "stdout",
     "output_type": "stream",
     "text": [
      "level=info ts=2019-03-06T01:00:25.04426Z caller=main.go:302 msg=\"Starting Prometheus\" version=\"(version=2.7.2, branch=non-git, revision=non-git)\"\n",
      "level=info ts=2019-03-06T01:00:25.044349Z caller=main.go:303 build_context=\"(go=go1.12, user=brew@HighSierra.local, date=20190303-23:13:21)\"\n",
      "level=info ts=2019-03-06T01:00:25.044389Z caller=main.go:304 host_details=(darwin)\n",
      "level=info ts=2019-03-06T01:00:25.044426Z caller=main.go:305 fd_limits=\"(soft=12800, hard=unlimited)\"\n",
      "level=info ts=2019-03-06T01:00:25.044463Z caller=main.go:306 vm_limits=\"(soft=unlimited, hard=unlimited)\"\n",
      "level=info ts=2019-03-06T01:00:25.046121Z caller=main.go:620 msg=\"Starting TSDB ...\"\n",
      "level=info ts=2019-03-06T01:00:25.046235Z caller=web.go:416 component=web msg=\"Start listening for connections\" address=0.0.0.0:9090\n",
      "level=info ts=2019-03-06T01:00:25.068054Z caller=main.go:635 msg=\"TSDB started\"\n",
      "level=info ts=2019-03-06T01:00:25.068428Z caller=main.go:695 msg=\"Loading configuration file\" filename=prometheus.yml\n",
      "level=info ts=2019-03-06T01:00:25.069537Z caller=main.go:722 msg=\"Completed loading of configuration file\" filename=prometheus.yml\n",
      "level=info ts=2019-03-06T01:00:25.069599Z caller=main.go:589 msg=\"Server is ready to receive web requests.\"\n"
     ]
    }
   ],
   "source": [
    "prometheus"
   ]
  },
  {
   "cell_type": "code",
   "execution_count": 7,
   "metadata": {},
   "outputs": [
    {
     "ename": "",
     "evalue": "1",
     "execution_count": 7,
     "output_type": "error",
     "traceback": []
    }
   ],
   "source": [
    "pgrep -f prometheus"
   ]
  },
  {
   "cell_type": "code",
   "execution_count": 3,
   "metadata": {},
   "outputs": [],
   "source": [
    "kill -TERM 58934"
   ]
  },
  {
   "cell_type": "code",
   "execution_count": null,
   "metadata": {},
   "outputs": [],
   "source": []
  }
 ],
 "metadata": {
  "kernelspec": {
   "display_name": "Bash",
   "language": "bash",
   "name": "bash"
  },
  "language_info": {
   "codemirror_mode": "shell",
   "file_extension": ".sh",
   "mimetype": "text/x-sh",
   "name": "bash"
  }
 },
 "nbformat": 4,
 "nbformat_minor": 2
}
